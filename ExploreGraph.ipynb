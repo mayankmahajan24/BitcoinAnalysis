{
 "cells": [
  {
   "cell_type": "code",
   "execution_count": null,
   "metadata": {
    "collapsed": true,
    "deletable": true,
    "editable": true
   },
   "outputs": [],
   "source": [
    "import numpy as np\n",
    "\n",
    "from sklearn.decomposition import NMF\n",
    "from scipy.sparse import csr_matrix, coo_matrix, linalg\n",
    "import matplotlib.pyplot as plt\n",
    "import itertools\n",
    "import matplotlib\n",
    "\n",
    "from sklearn.decomposition import TruncatedSVD\n",
    "from scipy.sparse.linalg import svds\n",
    "\n",
    "import random\n",
    "\n",
    "import pandas as pd\n",
    "from sklearn.metrics import roc_curve, auc\n",
    "\n",
    "import networkx as nx"
   ]
  },
  {
   "cell_type": "code",
   "execution_count": null,
   "metadata": {
    "collapsed": true,
    "deletable": true,
    "editable": true
   },
   "outputs": [],
   "source": [
    "def load_sparse_csr(filename):\n",
    "    loader = np.load(filename)\n",
    "    return csr_matrix((  loader['data'], loader['indices'], loader['indptr']),\n",
    "                         shape = loader['shape'], dtype=\"F\")\n",
    "\n",
    "def save_sparse_csr(filename,array):\n",
    "    np.savez(filename,data = array.data ,indices=array.indices,\n",
    "             indptr =array.indptr, shape=array.shape )"
   ]
  },
  {
   "cell_type": "code",
   "execution_count": null,
   "metadata": {
    "collapsed": false,
    "deletable": true,
    "editable": true
   },
   "outputs": [],
   "source": [
    "dftrain = pd.read_csv('data/txTripletsCounts.txt',\n",
    "                      header=None,\n",
    "                      index_col=None,\n",
    "                      sep=' ',\n",
    "                      names=['sender','receiver','transaction'])\n",
    "\n",
    "dftest = pd.read_csv('data/testTriplets.txt',\n",
    "                     header=None,\n",
    "                     index_col=None,\n",
    "                     sep=' ',\n",
    "                     names=['sender','receiver','transaction'])\n",
    "\n",
    "dim = max((dftrain['sender'].max(),\n",
    "           dftrain['receiver'].max(),\n",
    "           dftest['sender'].max(),\n",
    "           dftest['receiver'].max()))\n",
    "\n",
    "dim += 1\n",
    "\n",
    "train_csr = csr_matrix((dftrain['transaction'],(dftrain['sender'],dftrain['receiver'])),\n",
    "                       shape=(dim,dim),\n",
    "                       dtype=float)"
   ]
  },
  {
   "cell_type": "code",
   "execution_count": null,
   "metadata": {
    "collapsed": false,
    "deletable": true,
    "editable": true
   },
   "outputs": [],
   "source": [
    "g = nx.from_scipy_sparse_matrix(train_csr, create_using=nx.DiGraph())\n",
    "un_dir_g = nx.from_scipy_sparse_matrix(train_csr)"
   ]
  },
  {
   "cell_type": "code",
   "execution_count": null,
   "metadata": {
    "collapsed": false,
    "deletable": true,
    "editable": true
   },
   "outputs": [],
   "source": [
    "print g[0][1], g.in_degree(0), g.out_degree(0)"
   ]
  },
  {
   "cell_type": "code",
   "execution_count": null,
   "metadata": {
    "collapsed": false,
    "deletable": true,
    "editable": true
   },
   "outputs": [],
   "source": [
    "d_centrality = nx.centrality.degree_centrality(g)"
   ]
  },
  {
   "cell_type": "code",
   "execution_count": null,
   "metadata": {
    "collapsed": false,
    "deletable": true,
    "editable": true
   },
   "outputs": [],
   "source": [
    "in_d_centrality = nx.centrality.in_degree_centrality(g)\n",
    "out_d_centrality = nx.centrality.out_degree_centrality(g)"
   ]
  },
  {
   "cell_type": "code",
   "execution_count": null,
   "metadata": {
    "collapsed": false,
    "deletable": true,
    "editable": true
   },
   "outputs": [],
   "source": [
    "closeness_centrality = nx.centrality.in_degree_centrality(g)\n",
    "betweenness_centrality = nx.centrality.out_degree_centrality(g)"
   ]
  },
  {
   "cell_type": "code",
   "execution_count": null,
   "metadata": {
    "collapsed": false,
    "deletable": true,
    "editable": true
   },
   "outputs": [],
   "source": [
    "pagerank = nx.pagerank(g)"
   ]
  },
  {
   "cell_type": "code",
   "execution_count": null,
   "metadata": {
    "collapsed": false,
    "deletable": true,
    "editable": true
   },
   "outputs": [],
   "source": [
    "scc = nx.strongly_connected_components(g)\n",
    "wcc = nx.weakly_connected_components(g)"
   ]
  },
  {
   "cell_type": "code",
   "execution_count": null,
   "metadata": {
    "collapsed": false,
    "deletable": true,
    "editable": true
   },
   "outputs": [],
   "source": [
    "# Dont print all of them.. N^2 pairs!!!\n",
    "# preds = nx.adamic_adar_index(G, [(0, 1), (2, 3)])\n",
    "adamic_coeff = nx.adamic_adar_index(un_dir_g)\n",
    "jaccard_coeff = nx.jaccard_coefficient(un_dir_g)"
   ]
  },
  {
   "cell_type": "code",
   "execution_count": null,
   "metadata": {
    "collapsed": false,
    "deletable": true,
    "editable": true
   },
   "outputs": [],
   "source": [
    "a = 0\n",
    "for ac in adamic_coeff:\n",
    "    a += 1"
   ]
  },
  {
   "cell_type": "code",
   "execution_count": null,
   "metadata": {
    "collapsed": true,
    "deletable": true,
    "editable": true
   },
   "outputs": [],
   "source": []
  }
 ],
 "metadata": {
  "kernelspec": {
   "display_name": "Python 2",
   "language": "python",
   "name": "python2"
  },
  "language_info": {
   "codemirror_mode": {
    "name": "ipython",
    "version": 2
   },
   "file_extension": ".py",
   "mimetype": "text/x-python",
   "name": "python",
   "nbconvert_exporter": "python",
   "pygments_lexer": "ipython2",
   "version": "2.7.13"
  }
 },
 "nbformat": 4,
 "nbformat_minor": 2
}
