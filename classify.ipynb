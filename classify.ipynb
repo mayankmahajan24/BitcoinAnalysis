{
 "cells": [
  {
   "cell_type": "code",
   "execution_count": 19,
   "metadata": {
    "collapsed": true
   },
   "outputs": [],
   "source": [
    "import numpy as np\n",
    "\n",
    "import matplotlib\n",
    "import matplotlib.pyplot as plt\n",
    "import itertools\n",
    "\n",
    "import random\n",
    "\n",
    "import pandas as pd\n",
    "\n",
    "from sklearn.metrics import roc_curve, auc\n",
    "\n",
    "ignore_colms = ['sender', 'receiver', 'transaction']\n",
    "label_colm = 'transaction'"
   ]
  },
  {
   "cell_type": "code",
   "execution_count": 25,
   "metadata": {
    "collapsed": true
   },
   "outputs": [],
   "source": [
    "def load_features_file(convert_to_bin_trans, svd_k, nmf_n, unq_senders, unq_receivers):\n",
    "    filename_postfix = '_bin{}_svd{}_nmf{}_snd{}_rcv{}.csv'.format(str(convert_to_bin_trans), str(svd_k), str(nmf_n), str(unq_senders), str(unq_receivers))\n",
    "    ftrain = pd.read_csv('features/train' + filename_postfix, index_col=0)\n",
    "    ftest = pd.read_csv('features/test' + filename_postfix, index_col=0)\n",
    "    return ftrain, ftest\n",
    "\n",
    "\n",
    "def get_train_test_matricies(traindf, testdf):\n",
    "    train_X = traindf.drop(ignore_colms, axis=1).as_matrix()\n",
    "    train_Y = traindf[label_colm].values\n",
    "    \n",
    "    test_X = testdf.drop(ignore_colms, axis=1).as_matrix()\n",
    "    test_true_Y = testdf[label_colm].values\n",
    "    return train_X, train_Y, test_X, test_true_Y"
   ]
  },
  {
   "cell_type": "code",
   "execution_count": 26,
   "metadata": {
    "collapsed": false
   },
   "outputs": [],
   "source": [
    "# Load DFs\n",
    "bin_trans = True\n",
    "svd_k = 50\n",
    "nmf_n = 12\n",
    "unq_senders = 250\n",
    "unq_receivers = 100\n",
    "\n",
    "traindf, testdf = load_features_file(bin_trans, svd_k, nmf_n, unq_senders, unq_receivers)\n",
    "train_X, train_Y, test_X, test_true_Y = get_train_test_matricies(traindf, testdf)"
   ]
  },
  {
   "cell_type": "code",
   "execution_count": null,
   "metadata": {
    "collapsed": false
   },
   "outputs": [],
   "source": []
  },
  {
   "cell_type": "code",
   "execution_count": 22,
   "metadata": {
    "collapsed": false
   },
   "outputs": [],
   "source": []
  },
  {
   "cell_type": "code",
   "execution_count": 33,
   "metadata": {
    "collapsed": false
   },
   "outputs": [],
   "source": [
    "from itertools import cycle\n",
    "\n",
    "from time import time\n",
    "from operator import itemgetter\n",
    "\n",
    "from sklearn.neighbors import KNeighborsClassifier\n",
    "\n",
    "from sklearn.linear_model import LogisticRegressionCV, Perceptron\n",
    "\n",
    "from sklearn.tree import DecisionTreeClassifier\n",
    "from sklearn.grid_search import GridSearchCV\n",
    "from sklearn.cross_validation import  cross_val_score\n",
    "\n",
    "from scipy.stats import randint as sp_randint\n",
    "\n",
    "from sklearn.model_selection import GridSearchCV, RandomizedSearchCV\n",
    "from sklearn.ensemble import RandomForestClassifier, AdaBoostClassifier, GradientBoostingClassifier\n",
    "\n",
    "from scipy import interp\n",
    "from sklearn import svm\n",
    "from sklearn.metrics import roc_curve, precision_recall_curve, auc, accuracy_score, classification_report, confusion_matrix, average_precision_score\n",
    "from sklearn.naive_bayes import MultinomialNB\n",
    "\n",
    "import time"
   ]
  },
  {
   "cell_type": "code",
   "execution_count": 32,
   "metadata": {
    "collapsed": true
   },
   "outputs": [],
   "source": [
    "# Function to run and get stats for any classifier\n",
    "def simple_any(clf, train_features, train_labels, test_features, test_true_labels):\n",
    "    start_time = time.time()\n",
    "    stats = dict()\n",
    "    clf = clf.fit(train_features, train_labels)\n",
    "\n",
    "    train_predicted_labels = clf.predict(train_features)\n",
    "    test_predicted_labels = clf.predict(test_features)\n",
    "\n",
    "    y_score = clf.predict_proba(test_features)\n",
    "    \n",
    "    stats['time'] = time.time() - start_time\n",
    "    stats['false_pv_arr'], stats['true_pv_arr'], thresholds = roc_curve(test_true_labels, y_score[:, 1])\n",
    "    stats['precision_arr'], stats['recall_arr'], prthres = precision_recall_curve(test_true_labels, y_score[:, 1])\n",
    "    stats['auc'] = auc(stats['false_pv_arr'], stats['true_pv_arr'])\n",
    "    stats['aver_pr'] = average_precision_score(test_true_labels, y_score[:, 1])\n",
    "    stats['precision_recall_f1'] = classification_report(test_true_labels, test_predicted_labels)\n",
    "    stats['confusion_matrix'] = confusion_matrix(test_true_labels, test_predicted_labels)\n",
    "    stats['test_accuracy'] = accuracy_score(test_true_labels, test_predicted_labels)\n",
    "    stats['train_accuracy'] = accuracy_score(train_labels, train_predicted_labels)\n",
    "    return stats"
   ]
  },
  {
   "cell_type": "code",
   "execution_count": null,
   "metadata": {
    "collapsed": true
   },
   "outputs": [],
   "source": []
  }
 ],
 "metadata": {
  "kernelspec": {
   "display_name": "Python 2",
   "language": "python",
   "name": "python2"
  },
  "language_info": {
   "codemirror_mode": {
    "name": "ipython",
    "version": 2
   },
   "file_extension": ".py",
   "mimetype": "text/x-python",
   "name": "python",
   "nbconvert_exporter": "python",
   "pygments_lexer": "ipython2",
   "version": "2.7.13"
  }
 },
 "nbformat": 4,
 "nbformat_minor": 2
}
